{
 "cells": [
  {
   "cell_type": "code",
   "execution_count": null,
   "metadata": {},
   "outputs": [],
   "source": [
    "import matplotlib.pyplot as plt\n",
    "import time\n",
    "from IPython import display\n",
    "from xml.dom import minidom\n",
    "import math "
   ]
  },
  {
   "cell_type": "code",
   "execution_count": null,
   "metadata": {},
   "outputs": [],
   "source": [
    "#READ GPX FILE\n",
    "data=open('./input/Braassem_drecht_18_k.gpx')\n",
    "# data=open('./../tracks/uitgeest_8_k.gpx')\n",
    "xmldoc = minidom.parse(data)\n",
    "track = xmldoc.getElementsByTagName('trkpt')\n",
    "elevation=xmldoc.getElementsByTagName('ele')\n",
    "datetime=xmldoc.getElementsByTagName('time')\n",
    "n_track=len(track)"
   ]
  },
  {
   "cell_type": "code",
   "execution_count": null,
   "metadata": {},
   "outputs": [],
   "source": [
    "#PARSING GPX ELEMENT\n",
    "lon_list=[]\n",
    "lat_list=[]\n",
    "h_list=[]\n",
    "time_list=[]\n",
    "for s in range(n_track):\n",
    "    lon,lat=track[s].attributes['lon'].value,track[s].attributes['lat'].value\n",
    "    elev=elevation[s].firstChild.nodeValue\n",
    "    lon_list.append(float(lon))\n",
    "    lat_list.append(float(lat))\n",
    "    h_list.append(float(elev))\n",
    "    # # PARSING TIME ELEMENT\n",
    "    # dt=datetime[s].firstChild.nodeValue\n",
    "    # time_split=dt.split('T')\n",
    "    # hms_split=time_split[1].split(':')\n",
    "    # time_hour=int(hms_split[0])\n",
    "    # time_minute=int(hms_split[1])\n",
    "    # # time_second=int(hms_split[2].split('Z')[0])\n",
    "    # time_second=int(hms_split[2].split('Z')[0].split('.')[0])\n",
    "    # total_second=time_hour*3600+time_minute*60+time_second\n",
    "    # time_list.append(total_second)"
   ]
  },
  {
   "cell_type": "code",
   "execution_count": null,
   "metadata": {},
   "outputs": [],
   "source": [
    "#GEODETIC TO CARTERSIAN FUNCTION\n",
    "def geo2cart(lon,lat,h):\n",
    "    a=6378137 #WGS 84 Major axis\n",
    "    b=6356752.3142 #WGS 84 Minor axis\n",
    "    e2=1-(b**2/a**2)\n",
    "    N=float(a/math.sqrt(1-e2*(math.sin(math.radians(abs(lat)))**2)))\n",
    "    X=(N+h)*math.cos(math.radians(lat))*math.cos(math.radians(lon))\n",
    "    Y=(N+h)*math.cos(math.radians(lat))*math.sin(math.radians(lon))\n",
    "    return X,Y\n",
    "\n",
    "#DISTANCE FUNCTION\n",
    "def distance(x1,y1,x2,y2):\n",
    "    d=math.sqrt((x1-x2)**2+(y1-y2)**2)\n",
    "    return d\n",
    "\n",
    "#SPEED FUNCTION\n",
    "def speed(x0,y0,x1,y1,t0,t1):\n",
    "    d=math.sqrt((x0-x1)**2+(y0-y1)**2)\n",
    "    delta_t=t1-t0\n",
    "    s=float(d/delta_t)\n",
    "    return s"
   ]
  },
  {
   "cell_type": "code",
   "execution_count": null,
   "metadata": {},
   "outputs": [],
   "source": [
    "import pyproj\n",
    "\n",
    "# Function to convert Geodetic coordinates to Cartesian\n",
    "def geodetic_to_cartesian(lat, lon, alt):\n",
    "    # Define the coordinate systems\n",
    "    ecef = pyproj.Proj(proj='geocent', ellps='WGS84', datum='WGS84')\n",
    "    lla = pyproj.Proj(proj='latlong', ellps='WGS84', datum='WGS84')\n",
    "    # Perform the coordinate transformation\n",
    "    x, y, z = pyproj.transform(lla, ecef, lon, lat, alt, radians=False)\n",
    "    return x, y, z"
   ]
  },
  {
   "cell_type": "code",
   "execution_count": null,
   "metadata": {},
   "outputs": [],
   "source": [
    "#POPULATE DISTANCE AND SPEED LIST\n",
    "d_list=[0.0]\n",
    "speed_list=[0.0]\n",
    "l=0\n",
    "for k in range(n_track-1):\n",
    "    if k<(n_track-1):\n",
    "        l=k+1\n",
    "    else:\n",
    "        l=k\n",
    "    XY0=geo2cart(lon_list[k],lat_list[k],h_list[k])\n",
    "    XY1=geo2cart(lon_list[l],lat_list[l],h_list[l])\n",
    "    # XY0=geodetic_to_cartesian(lon=lon_list[k], lat=lat_list[k], alt=h_list[k])\n",
    "    # XY1=geodetic_to_cartesian(lon=lon_list[l], lat=lat_list[l], alt=h_list[l])\n",
    "\n",
    "    #DISTANCE\n",
    "    d=distance(XY0[0],XY0[1],XY1[0],XY1[1])\n",
    "    sum_d=d+d_list[-1]\n",
    "    d_list.append(sum_d)\n",
    "    \n",
    "    #SPEED\n",
    "    # s=speed(XY0[0],XY0[1],XY1[0],XY1[1],time_list[k],time_list[l])\n",
    "    # speed_list.append(s)"
   ]
  },
  {
   "cell_type": "code",
   "execution_count": null,
   "metadata": {},
   "outputs": [],
   "source": [
    "d_list[-1]"
   ]
  },
  {
   "cell_type": "markdown",
   "metadata": {},
   "source": [
    "zowel geo2cart als geodetic_to_cartesian komen op 7541 meter uit voor het Uitgeest track.\n",
    "Volgens garmin (en strava) is het track 8,19 km. dus waar zit het verschil?\n",
    "\n",
    "code: https://www.geodose.com/2018/04/create-gpx-tracking-file-visualizer-python.html\n",
    "\n",
    "\n",
    "voor Braassem_drecht komt er 16846 meter uit (tegen 18,27 km)."
   ]
  },
  {
   "cell_type": "code",
   "execution_count": null,
   "metadata": {},
   "outputs": [],
   "source": [
    "#PLOT TRACK\n",
    "f,(track,speed,elevation)=plt.subplots(3,1)\n",
    "f.set_figheight(8)\n",
    "f.set_figwidth(5)\n",
    "plt.subplots_adjust(hspace=0.5)\n",
    "track.plot(lon_list,lat_list,'k')\n",
    "track.set_ylabel(\"Latitude\")\n",
    "track.set_xlabel(\"Longitude\")\n",
    "track.set_title(\"Track Plot\")\n",
    "\n",
    "# #PLOT SPEED\n",
    "# speed.bar(d_list,speed_list,30,color='w',edgecolor='w')\n",
    "# speed.set_title(\"Speed\")\n",
    "# speed.set_xlabel(\"Distance(m)\")\n",
    "# speed.set_ylabel(\"Speed(m/s)\")\n",
    "\n",
    "#PLOT ELEVATION PROFILE\n",
    "base_reg=0\n",
    "elevation.plot(d_list,h_list)\n",
    "elevation.fill_between(d_list,h_list,base_reg,alpha=0.1)\n",
    "elevation.set_title(\"Elevation Profile\")\n",
    "elevation.set_xlabel(\"Distance(m)\")\n",
    "elevation.set_ylabel(\"GPS Elevation(m)\")\n",
    "elevation.grid()"
   ]
  },
  {
   "cell_type": "code",
   "execution_count": null,
   "metadata": {},
   "outputs": [],
   "source": [
    "import gpxpy\n",
    "import gpxpy.gpx\n",
    "\n",
    "# Parsing an existing file:\n",
    "# -------------------------\n",
    "\n",
    "gpx_file = open('./input/Braassem_drecht_18_k.gpx', 'r')\n",
    "\n",
    "gpx = gpxpy.parse(gpx_file)"
   ]
  },
  {
   "cell_type": "code",
   "execution_count": null,
   "metadata": {},
   "outputs": [],
   "source": [
    "for track in gpx.tracks:\n",
    "    # for segment in track.segments:\n",
    "    #     for point in segment.points:\n",
    "    #         print(f'Point at ({point.latitude},{point.longitude}) -> {point.elevation}')\n",
    "\n",
    "    print('length 2d: ' + str(track.length_2d()))\n",
    "    print('length 3d: ' + str(track.length_3d()))\n"
   ]
  },
  {
   "cell_type": "code",
   "execution_count": null,
   "metadata": {},
   "outputs": [],
   "source": [
    "gpx.tracks[0].length_2d()"
   ]
  },
  {
   "cell_type": "code",
   "execution_count": null,
   "metadata": {},
   "outputs": [],
   "source": [
    "for track in gpx.tracks:\n",
    "    for segment in track.segments:\n",
    "        print('segment')\n",
    "        for point in segment.points:\n",
    "            print(f'Point at ({point.latitude},{point.longitude}) -> {point.elevation}')"
   ]
  },
  {
   "cell_type": "code",
   "execution_count": null,
   "metadata": {},
   "outputs": [],
   "source": [
    "from gpxpy import geo as mod_geo\n",
    "\n",
    "\n",
    "d_list = [0.0]\n",
    "for track in gpx.tracks:\n",
    "    for segment in track.segments:\n",
    "        l=0\n",
    "        for k in range(len(segment.points)-1):\n",
    "            if k<(len(segment.points)-1):\n",
    "                l=k+1\n",
    "            else:\n",
    "                l=k\n",
    "            # d = mod_geo.distance(segment.points[k].latitude, segment.points[k].longitude, None, segment.points[l].latitude, segment.points[l].longitude, None)\n",
    "            d = mod_geo.haversine_distance(segment.points[k].latitude, segment.points[k].longitude, segment.points[l].latitude, segment.points[l].longitude)\n",
    "            sum_d=d+d_list[-1]\n",
    "            d_list.append(sum_d)\n",
    "\n",
    "\n",
    "print(d_list[-1])"
   ]
  },
  {
   "cell_type": "markdown",
   "metadata": {},
   "source": [
    "gpxpy length_2d() komt op ongeveer 200 meter teveel uit\n",
    "Uitgeest gpxpy 8356. garmin/strava 8,19km\n",
    "Braassem gpxpy 18452. garmin/strava 18,27km\n",
    "\n",
    "18452.49113139704 (distance)\n",
    "18452.491047374424 (haversine)"
   ]
  },
  {
   "cell_type": "code",
   "execution_count": null,
   "metadata": {},
   "outputs": [],
   "source": [
    "pd = gpx.get_points_data()\n",
    "\n",
    "pd[-1]\n",
    "\n",
    "new_gpx = gpxpy.gpx.GPX()\n",
    "new_gpx.description = \"Modified GPX;blabla\"\n",
    "\n",
    "print(new_gpx.to_xml())"
   ]
  }
 ],
 "metadata": {
  "kernelspec": {
   "display_name": "leafmap",
   "language": "python",
   "name": "python3"
  },
  "language_info": {
   "codemirror_mode": {
    "name": "ipython",
    "version": 3
   },
   "file_extension": ".py",
   "mimetype": "text/x-python",
   "name": "python",
   "nbconvert_exporter": "python",
   "pygments_lexer": "ipython3",
   "version": "3.9.18"
  }
 },
 "nbformat": 4,
 "nbformat_minor": 2
}
