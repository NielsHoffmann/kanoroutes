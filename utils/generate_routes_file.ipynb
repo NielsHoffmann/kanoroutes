{
 "cells": [
  {
   "cell_type": "code",
   "execution_count": 1,
   "metadata": {},
   "outputs": [],
   "source": [
    "import os"
   ]
  },
  {
   "cell_type": "code",
   "execution_count": 6,
   "metadata": {},
   "outputs": [
    {
     "name": "stdout",
     "output_type": "stream",
     "text": [
      "in: /kanoroutes/tracks/adam_nieuw_west_12k.gpx\n",
      "in: /kanoroutes/tracks/alkmaar_8_5_k.gpx\n",
      "in: /kanoroutes/tracks/almere_14_5_k.gpx\n",
      "in: /kanoroutes/tracks/amsterdamse_bos_12_k.gpx\n",
      "in: /kanoroutes/tracks/bloem_zaanse_schans_10_km.gpx\n",
      "in: /kanoroutes/tracks/braassem_drecht_18_k.gpx\n",
      "in: /kanoroutes/tracks/broek_op_langedijk_10k.gpx\n",
      "in: /kanoroutes/tracks/buurterpolder_7_km.gpx\n",
      "in: /kanoroutes/tracks/de_wieden_11_km.gpx\n",
      "in: /kanoroutes/tracks/dommel_valkenswaard_eindhoven_11_k.gpx\n",
      "in: /kanoroutes/tracks/eilandspolder_10_km.gpx\n",
      "in: /kanoroutes/tracks/eilandspolder.gpx\n",
      "in: /kanoroutes/tracks/gein_17_k.gpx\n",
      "in: /kanoroutes/tracks/groenendaalse_bos_5_5_km.gpx\n",
      "in: /kanoroutes/tracks/haarlem_mooie_nel_21_km.gpx\n",
      "in: /kanoroutes/tracks/hillegom_keukenhof_12_km.gpx\n",
      "in: /kanoroutes/tracks/hillegom_noordwijk_34_5_km.gpx\n",
      "in: /kanoroutes/tracks/hoofddorp_tudorpark_20_km.gpx\n",
      "in: /kanoroutes/tracks/ijburg.gpx\n",
      "in: /kanoroutes/tracks/ilperveld_12_k.gpx\n",
      "in: /kanoroutes/tracks/kaag_leiderdorp_30_km.gpx\n",
      "in: /kanoroutes/tracks/kaag_zevenhuizen_ade_10_4_km.gpx\n",
      "in: /kanoroutes/tracks/kagerplassen_leiden_16_k.gpx\n",
      "in: /kanoroutes/tracks/kagerplassen.gpx\n",
      "in: /kanoroutes/tracks/kortenhoef_10_k.gpx\n",
      "in: /kanoroutes/tracks/linschoten_19_3_km.gpx\n",
      "in: /kanoroutes/tracks/lisse_11_5_k.gpx\n",
      "in: /kanoroutes/tracks/marker_wad_enkele_reis_11_7_km.gpx\n",
      "in: /kanoroutes/tracks/nieuwe_meer_schinkel_sloterplas.gpx\n",
      "in: /kanoroutes/tracks/nieuwkoopse_plassen_20_km.gpx\n",
      "in: /kanoroutes/tracks/oosteinder_plassen_5_6_km.gpx\n",
      "in: /kanoroutes/tracks/reeuwijkse_plassen_15_5_km.gpx\n",
      "in: /kanoroutes/tracks/ringvaart_watertoren_aalsmeer_11_km.gpx\n",
      "in: /kanoroutes/tracks/rond_sneek_8_5_km.gpx\n",
      "in: /kanoroutes/tracks/ronde_hoep_16_k.gpx\n",
      "in: /kanoroutes/tracks/rondje_delft_13_6_km.gpx\n",
      "in: /kanoroutes/tracks/rondje_pampus_13_5_km.gpx\n",
      "in: /kanoroutes/tracks/schalkwijk_7_9_km.gpx\n",
      "in: /kanoroutes/tracks/slotervaart_schinkel_nieuwe_meer.gpx\n",
      "in: /kanoroutes/tracks/teijlingen_5_km.gpx\n",
      "in: /kanoroutes/tracks/teijlingen_kagerplassen_9_7_km.gpx\n",
      "in: /kanoroutes/tracks/terherne_7_km.gpx\n",
      "in: /kanoroutes/tracks/uitgeest_8_k.gpx\n",
      "in: /kanoroutes/tracks/uitgeest_alkmaarder_meer_18_5_km.gpx\n",
      "in: /kanoroutes/tracks/vinkeveense_plassen.gpx\n",
      "in: /kanoroutes/tracks/waterland_16_k.gpx\n",
      "in: /kanoroutes/tracks/weerribben_dag1_7_k.gpx\n",
      "in: /kanoroutes/tracks/weerribben_dag2_20_k.gpx\n",
      "in: /kanoroutes/tracks/weerribben_dag3_13_k.gpx\n",
      "in: /kanoroutes/tracks/westeinder_10_km.gpx\n",
      "in: /kanoroutes/tracks/westeinder_oostenwind_10_k.gpx\n",
      "in: /kanoroutes/tracks/westeinder.gpx\n",
      "in: /kanoroutes/tracks/westzaan.gpx\n",
      "in: /kanoroutes/tracks/wetering_leiderdorp_28_km.gpx\n"
     ]
    }
   ],
   "source": [
    "f = open('routes.js', \"w\")\n",
    "f.write('var routeData = { \"routes\":')\n",
    "f.write('[')\n",
    "\n",
    "directory = r'./../tracks'\n",
    "for filename in os.listdir(directory):\n",
    "    if filename.endswith(\".gpx\"):\n",
    "        print ('in: ' + '/kanoroutes/tracks'+ os.sep +filename)\n",
    "        f.write('\"/kanoroutes/tracks'+ os.sep +filename + '\",')\n",
    "\n",
    "\n",
    "f.write(']}')\n",
    "f.close()\n"
   ]
  }
 ],
 "metadata": {
  "kernelspec": {
   "display_name": "leafmap",
   "language": "python",
   "name": "python3"
  },
  "language_info": {
   "codemirror_mode": {
    "name": "ipython",
    "version": 3
   },
   "file_extension": ".py",
   "mimetype": "text/x-python",
   "name": "python",
   "nbconvert_exporter": "python",
   "pygments_lexer": "ipython3",
   "version": "3.9.18"
  }
 },
 "nbformat": 4,
 "nbformat_minor": 2
}
